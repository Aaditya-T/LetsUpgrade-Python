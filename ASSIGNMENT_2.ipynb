{
  "nbformat": 4,
  "nbformat_minor": 0,
  "metadata": {
    "colab": {
      "name": "ASSIGNMENT-2",
      "provenance": [],
      "collapsed_sections": [],
      "authorship_tag": "ABX9TyPgUL4MWElrznTA6iO169iN",
      "include_colab_link": true
    },
    "kernelspec": {
      "name": "python3",
      "display_name": "Python 3"
    }
  },
  "cells": [
    {
      "cell_type": "markdown",
      "metadata": {
        "id": "view-in-github",
        "colab_type": "text"
      },
      "source": [
        "<a href=\"https://colab.research.google.com/github/Aaditya-T/LetsUpgrade-Python/blob/master/ASSIGNMENT_2.ipynb\" target=\"_parent\"><img src=\"https://colab.research.google.com/assets/colab-badge.svg\" alt=\"Open In Colab\"/></a>"
      ]
    },
    {
      "cell_type": "code",
      "metadata": {
        "id": "kOEO4XSRuQ2m",
        "colab_type": "code",
        "colab": {
          "base_uri": "https://localhost:8080/",
          "height": 72
        },
        "outputId": "8a3fe7e4-3540-4e79-cced-5d2ae19c8648"
      },
      "source": [
        "height = input(\"please input your height:\\n\")\n",
        "\n",
        "height = int(height)\n",
        "\n",
        "if height <= 1000:\n",
        "    print(\"SAFE TO LAND\")\n",
        "elif height <=5000:\n",
        "    print(\"Bring down the height to 1000\")\n",
        "else:\n",
        "    print(\"Go around and try later\")"
      ],
      "execution_count": 16,
      "outputs": [
        {
          "output_type": "stream",
          "text": [
            "please input your height:\n",
            "6000\n",
            "Go around and try later\n"
          ],
          "name": "stdout"
        }
      ]
    }
  ]
}